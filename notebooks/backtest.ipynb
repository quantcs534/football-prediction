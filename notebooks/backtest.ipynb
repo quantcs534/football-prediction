{
 "cells": [
  {
   "cell_type": "code",
   "execution_count": null,
   "metadata": {},
   "outputs": [],
   "source": [
    "from backtest import FutPredict, CumulativeBacktest\n",
    "from predictor import FutPredict \n",
    "import pandas as pd\n",
    "import glob"
   ]
  },
  {
   "cell_type": "code",
   "execution_count": null,
   "metadata": {},
   "outputs": [],
   "source": [
    "csv_files = glob.glob(\"C:/Users/HP/Desktop/Football-prediction/data/*.csv\")\n",
    "df_list = [pd.read_csv(file) for file in csv_files]\n",
    "merged_df = pd.concat(df_list, ignore_index=True)\n",
    "\n",
    "merged_df.rename(columns={'FTHG': 'home_team_goal', 'FTAG': 'away_team_goal',\n",
    "                          'HS': 'home_team_shot', 'AS': 'away_team_shot',\n",
    "                          'HST': 'home_team_shoton','AST': 'away_team_shoton',\n",
    "                          'HF': 'home_team_foulcommit', 'AF': 'away_team_foulcommit',\n",
    "                          'HC': 'home_team_corner', 'AC': 'away_team_corner',\n",
    "                          'HY': 'home_team_yellowcard', 'AY': 'away_team_yellowcard',\n",
    "                          'HR': 'home_team_redcard', 'AR': 'away_team_redcard'}, inplace=True)\n",
    "\n",
    "\n",
    "merged_df_odds = merged_df[['Date', 'HomeTeam', 'AwayTeam', 'home_team_goal', 'away_team_goal',\n",
    "       'home_team_shot', 'away_team_shot', 'home_team_shoton',\n",
    "       'away_team_shoton', 'home_team_corner', 'away_team_corner',\n",
    "       'home_team_foulcommit', 'away_team_foulcommit', 'home_team_yellowcard',\n",
    "       'away_team_yellowcard', 'home_team_redcard', 'away_team_redcard','B365H','B365D','B365A']]\n",
    "\n",
    "merged_df_odds[\"Date\"] = pd.to_datetime(merged_df_odds[\"Date\"], format=\"%d/%m/%Y\")\n",
    "merged_df_odds = merged_df_odds.sort_values(by='Date', ascending=True).reset_index(drop=True)\n",
    "\n",
    "merged_df_odds = merged_df[['Date', 'HomeTeam', 'AwayTeam', 'home_team_goal', 'away_team_goal',\n",
    "       'home_team_shot', 'away_team_shot', 'home_team_shoton',\n",
    "       'away_team_shoton', 'home_team_corner', 'away_team_corner',\n",
    "       'home_team_foulcommit', 'away_team_foulcommit', 'home_team_yellowcard',\n",
    "       'away_team_yellowcard', 'home_team_redcard', 'away_team_redcard','B365H','B365D','B365A']]\n",
    "\n",
    "merged_df[\"Date\"] = pd.to_datetime(merged_df[\"Date\"], format=\"%d/%m/%Y\")\n",
    "merged_df = merged_df.sort_values(by='Date', ascending=True).reset_index(drop=True)\n",
    "\n",
    "merged_df_odds[\"Date\"] = pd.to_datetime(merged_df_odds[\"Date\"], format=\"%d/%m/%Y\")\n",
    "merged_df_odds = merged_df_odds.sort_values(by='Date', ascending=True).reset_index(drop=True)\n",
    "\n",
    "data = merged_df.copy()\n",
    "data = data.dropna().reset_index(drop=True)"
   ]
  },
  {
   "cell_type": "code",
   "execution_count": null,
   "metadata": {},
   "outputs": [],
   "source": [
    "start_date = pd.to_datetime('2023-12-30')\n",
    "predictor = FutPredict(history_size=6)\n",
    "backtest = CumulativeBacktest(predictor=predictor)\n",
    "predictions = backtest.run_backtest(data, start_date)\n",
    "\n",
    "print(predictions[['match_date', 'team', 'opponent', 'is_home',\n",
    "                  'win_probability', 'loss_probability', 'expected_goals',\n",
    "                  'form_trend', 'defensive_strength']])"
   ]
  }
 ],
 "metadata": {
  "kernelspec": {
   "display_name": "Python 3",
   "language": "python",
   "name": "python3"
  },
  "language_info": {
   "codemirror_mode": {
    "name": "ipython",
    "version": 3
   },
   "file_extension": ".py",
   "mimetype": "text/x-python",
   "name": "python",
   "nbconvert_exporter": "python",
   "pygments_lexer": "ipython3",
   "version": "3.11.2"
  }
 },
 "nbformat": 4,
 "nbformat_minor": 2
}
