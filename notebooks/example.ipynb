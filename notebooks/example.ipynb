{
 "cells": [
  {
   "cell_type": "code",
   "execution_count": null,
   "metadata": {},
   "outputs": [],
   "source": [
    "from predictor import FutPredict \n",
    "import pandas as pd"
   ]
  },
  {
   "cell_type": "code",
   "execution_count": 10,
   "metadata": {},
   "outputs": [],
   "source": [
    "import glob\n",
    "\n",
    "csv_files = glob.glob(\"data/*.csv\")\n",
    "df_list = [pd.read_csv(file) for file in csv_files]\n",
    "merged_df = pd.concat(df_list, ignore_index=True)\n",
    "\n",
    "merged_df.rename(columns={'FTHG': 'home_team_goal', 'FTAG': 'away_team_goal',\n",
    "                          'HS': 'home_team_shot', 'AS': 'away_team_shot',\n",
    "                          'HST': 'home_team_shoton','AST': 'away_team_shoton',\n",
    "                          'HF': 'home_team_foulcommit', 'AF': 'away_team_foulcommit',\n",
    "                          'HC': 'home_team_corner', 'AC': 'away_team_corner',\n",
    "                          'HY': 'home_team_yellowcard', 'AY': 'away_team_yellowcard',\n",
    "                          'HR': 'home_team_redcard', 'AR': 'away_team_redcard'}, inplace=True)\n",
    "\n",
    "merged_df_odds = merged_df[['Date', 'HomeTeam', 'AwayTeam', 'home_team_goal', 'away_team_goal',\n",
    "       'home_team_shot', 'away_team_shot', 'home_team_shoton',\n",
    "       'away_team_shoton', 'home_team_corner', 'away_team_corner',\n",
    "       'home_team_foulcommit', 'away_team_foulcommit', 'home_team_yellowcard',\n",
    "       'away_team_yellowcard', 'home_team_redcard', 'away_team_redcard','B365H','B365D','B365A']]\n",
    "\n",
    "merged_df[\"Date\"] = pd.to_datetime(merged_df[\"Date\"], format=\"%d/%m/%Y\")\n",
    "merged_df = merged_df.sort_values(by='Date', ascending=True).reset_index(drop=True)\n",
    "\n",
    "merged_df_odds[\"Date\"] = pd.to_datetime(merged_df_odds[\"Date\"], format=\"%d/%m/%Y\")\n",
    "merged_df_odds = merged_df_odds.sort_values(by='Date', ascending=True).reset_index(drop=True)\n",
    "\n",
    "data = merged_df.copy()\n",
    "data = data.dropna().reset_index(drop=True)"
   ]
  },
  {
   "cell_type": "code",
   "execution_count": null,
   "metadata": {},
   "outputs": [],
   "source": [
    "predictor = FutPredict(history_size=5)\n",
    "match_data = predictor.prepare_match_data(data)\n",
    "\n",
    "cutoff_date = pd.to_datetime('2023-12-06')\n",
    "\n",
    "historical_features = predictor.calculate_historical_features(\n",
    "    match_data, cutoff_date)"
   ]
  },
  {
   "cell_type": "code",
   "execution_count": 15,
   "metadata": {},
   "outputs": [],
   "source": [
    "X, y = predictor.prepare_model_features(historical_features)\n",
    "model, importance = predictor.train_model(X, y)"
   ]
  },
  {
   "cell_type": "code",
   "execution_count": 23,
   "metadata": {},
   "outputs": [],
   "source": [
    "future_match_date = pd.to_datetime('2024-01-01')\n",
    "prediction = predictor.predict_match(\n",
    "        model=model,\n",
    "        home_team='Liverpool',\n",
    "        away_team='Newcastle',\n",
    "        match_date=future_match_date,\n",
    "        historical_data=match_data\n",
    "    )\n"
   ]
  },
  {
   "cell_type": "code",
   "execution_count": 24,
   "metadata": {},
   "outputs": [
    {
     "data": {
      "text/html": [
       "<div>\n",
       "<style scoped>\n",
       "    .dataframe tbody tr th:only-of-type {\n",
       "        vertical-align: middle;\n",
       "    }\n",
       "\n",
       "    .dataframe tbody tr th {\n",
       "        vertical-align: top;\n",
       "    }\n",
       "\n",
       "    .dataframe thead th {\n",
       "        text-align: right;\n",
       "    }\n",
       "</style>\n",
       "<table border=\"1\" class=\"dataframe\">\n",
       "  <thead>\n",
       "    <tr style=\"text-align: right;\">\n",
       "      <th></th>\n",
       "      <th>match_date</th>\n",
       "      <th>team</th>\n",
       "      <th>opponent</th>\n",
       "      <th>is_home</th>\n",
       "      <th>win_probability</th>\n",
       "      <th>loss_probability</th>\n",
       "      <th>expected_goals</th>\n",
       "      <th>form_trend</th>\n",
       "      <th>defensive_strength</th>\n",
       "    </tr>\n",
       "  </thead>\n",
       "  <tbody>\n",
       "    <tr>\n",
       "      <th>0</th>\n",
       "      <td>2024-01-01</td>\n",
       "      <td>Liverpool</td>\n",
       "      <td>Newcastle</td>\n",
       "      <td>1</td>\n",
       "      <td>74.605440</td>\n",
       "      <td>25.394560</td>\n",
       "      <td>0.886206</td>\n",
       "      <td>0.042380</td>\n",
       "      <td>-0.061433</td>\n",
       "    </tr>\n",
       "    <tr>\n",
       "      <th>1</th>\n",
       "      <td>2024-01-01</td>\n",
       "      <td>Newcastle</td>\n",
       "      <td>Liverpool</td>\n",
       "      <td>0</td>\n",
       "      <td>39.629748</td>\n",
       "      <td>60.370252</td>\n",
       "      <td>0.694639</td>\n",
       "      <td>-0.178104</td>\n",
       "      <td>-0.019233</td>\n",
       "    </tr>\n",
       "  </tbody>\n",
       "</table>\n",
       "</div>"
      ],
      "text/plain": [
       "  match_date       team   opponent  is_home  win_probability  \\\n",
       "0 2024-01-01  Liverpool  Newcastle        1        74.605440   \n",
       "1 2024-01-01  Newcastle  Liverpool        0        39.629748   \n",
       "\n",
       "   loss_probability  expected_goals  form_trend  defensive_strength  \n",
       "0         25.394560        0.886206    0.042380           -0.061433  \n",
       "1         60.370252        0.694639   -0.178104           -0.019233  "
      ]
     },
     "execution_count": 24,
     "metadata": {},
     "output_type": "execute_result"
    }
   ],
   "source": [
    "prediction"
   ]
  },
  {
   "cell_type": "code",
   "execution_count": null,
   "metadata": {},
   "outputs": [],
   "source": []
  }
 ],
 "metadata": {
  "kernelspec": {
   "display_name": "Python 3",
   "language": "python",
   "name": "python3"
  },
  "language_info": {
   "codemirror_mode": {
    "name": "ipython",
    "version": 3
   },
   "file_extension": ".py",
   "mimetype": "text/x-python",
   "name": "python",
   "nbconvert_exporter": "python",
   "pygments_lexer": "ipython3",
   "version": "3.11.2"
  }
 },
 "nbformat": 4,
 "nbformat_minor": 2
}
